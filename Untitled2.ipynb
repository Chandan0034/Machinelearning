{
 "cells": [
  {
   "cell_type": "code",
   "execution_count": null,
   "id": "282713fc",
   "metadata": {},
   "outputs": [],
   "source": [
    "import cv2 as cv\n",
    "cam=cv.VideoCapture(0)\n",
    "while(1):\n",
    "        ret,frame=cam.read()\n",
    "        if ret and frame is not None and frame.shape[0]>0 and frame.shape[1]>0:\n",
    "                cv.imshow(\"frame\",frame)\n",
    "                \n",
    "                if cv.waitKey(1) & 0XFF==ord('q'):\n",
    "                        break\n",
    "        else:\n",
    "                print(\"Video Not Capture\")\n",
    "                break\n",
    "cam.release()\n",
    "cv.destroyAllWindows()"
   ]
  },
  {
   "cell_type": "code",
   "execution_count": 8,
   "id": "0aed7c71",
   "metadata": {},
   "outputs": [],
   "source": [
    "import cv2\n",
    "\n",
    "cam = cv2.VideoCapture(0)  # Open the default camera (usually 0 or 1)\n",
    "\n",
    "while True:\n",
    "    ret, frame = cam.read()\n",
    "    \n",
    "    # Check if the frame is valid and not empty\n",
    "    if ret and frame is not None and frame.shape[0] > 0 and frame.shape[1] > 0:\n",
    "        cv2.imshow(\"Frame\", frame)\n",
    "        \n",
    "        # Check for the 'q' key press to exit the loop\n",
    "        if cv2.waitKey(1) & 0xFF == ord('q'):\n",
    "            break\n",
    "    else:\n",
    "        print(\"Failed to capture a valid frame.\")\n",
    "        break\n",
    "\n",
    "cam.release()  # Release the camera\n",
    "cv2.destroyAllWindows()  # Close all OpenCV windows\n"
   ]
  },
  {
   "cell_type": "code",
   "execution_count": null,
   "id": "92d4cbc6",
   "metadata": {},
   "outputs": [],
   "source": []
  }
 ],
 "metadata": {
  "kernelspec": {
   "display_name": "Python 3 (ipykernel)",
   "language": "python",
   "name": "python3"
  },
  "language_info": {
   "codemirror_mode": {
    "name": "ipython",
    "version": 3
   },
   "file_extension": ".py",
   "mimetype": "text/x-python",
   "name": "python",
   "nbconvert_exporter": "python",
   "pygments_lexer": "ipython3",
   "version": "3.10.9"
  }
 },
 "nbformat": 4,
 "nbformat_minor": 5
}
