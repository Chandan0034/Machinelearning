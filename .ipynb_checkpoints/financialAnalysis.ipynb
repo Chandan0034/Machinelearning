{
 "cells": [
  {
   "cell_type": "code",
   "execution_count": 53,
   "metadata": {},
   "outputs": [],
   "source": [
    "import requests\n",
    "import pytz\n",
    "from datetime import datetime\n",
    "import pandas as pd"
   ]
  },
  {
   "cell_type": "code",
   "execution_count": null,
   "metadata": {},
   "outputs": [],
   "source": [
    "timezone=pytz.timezone()"
   ]
  },
  {
   "cell_type": "code",
   "execution_count": 38,
   "metadata": {},
   "outputs": [],
   "source": [
    "timeStamp=[]\n",
    "openPrice=[]\n",
    "closePrice=[]\n",
    "highPrice=[]\n",
    "lowPrice=[]\n",
    "volume=[]\n"
   ]
  },
  {
   "cell_type": "code",
   "execution_count": 42,
   "metadata": {},
   "outputs": [
    {
     "name": "stdout",
     "output_type": "stream",
     "text": [
      "Thank you for using Alpha Vantage! Our standard API rate limit is 25 requests per day. Please subscribe to any of the premium plans at https://www.alphavantage.co/premium/ to instantly remove all daily rate limits.\n"
     ]
    },
    {
     "ename": "KeyError",
     "evalue": "'Time Series (1min)'",
     "output_type": "error",
     "traceback": [
      "\u001b[1;31m---------------------------------------------------------------------------\u001b[0m",
      "\u001b[1;31mKeyError\u001b[0m                                  Traceback (most recent call last)",
      "Cell \u001b[1;32mIn[42], line 10\u001b[0m\n\u001b[0;32m      8\u001b[0m data\u001b[38;5;241m=\u001b[39mresponse\u001b[38;5;241m.\u001b[39mjson()\n\u001b[0;32m      9\u001b[0m \u001b[38;5;28mprint\u001b[39m(data[\u001b[38;5;124m'\u001b[39m\u001b[38;5;124mInformation\u001b[39m\u001b[38;5;124m'\u001b[39m])\n\u001b[1;32m---> 10\u001b[0m timeStampData\u001b[38;5;241m=\u001b[39m\u001b[43mdata\u001b[49m\u001b[43m[\u001b[49m\u001b[38;5;124;43m'\u001b[39;49m\u001b[38;5;124;43mTime Series (1min)\u001b[39;49m\u001b[38;5;124;43m'\u001b[39;49m\u001b[43m]\u001b[49m\n\u001b[0;32m     11\u001b[0m \u001b[38;5;28;01mfor\u001b[39;00m timestapm,values \u001b[38;5;129;01min\u001b[39;00m timeStampData\u001b[38;5;241m.\u001b[39mitems():\n\u001b[0;32m     12\u001b[0m     timeStamp\u001b[38;5;241m.\u001b[39mappend(timeStamp)\n",
      "\u001b[1;31mKeyError\u001b[0m: 'Time Series (1min)'"
     ]
    }
   ],
   "source": [
    "api_key=\"9II5ZJNYF9PJNZU4\"\n",
    "interval='1min'\n",
    "company_name='IBM'\n",
    "size='compact'\n",
    "url=f'https://www.alphavantage.co/query?function=TIME_SERIES_INTRADAY&symbol={company_name}&interval={interval}&apikey={api_key}'\n",
    "response=requests.get(url)\n",
    "if response.status_code==200:\n",
    "    data=response.json()\n",
    "    print(data['Information'])\n",
    "    timeStampData=data['Time Series (1min)']\n",
    "    for timestapm,values in timeStampData.items():\n",
    "        timeStamp.append(timeStamp)\n",
    "        openPrice.append(values['1. open'])\n",
    "        closePrice.append(values['4. close'])\n",
    "        highPrice.append(values['2. high'])\n",
    "        lowPrice.append(values['3. low'])\n",
    "        volume.append(values['5. volume'])    \n",
    "else:\n",
    "    print(response.text)"
   ]
  },
  {
   "cell_type": "code",
   "execution_count": 41,
   "metadata": {},
   "outputs": [
    {
     "data": {
      "text/plain": [
       "[]"
      ]
     },
     "execution_count": 41,
     "metadata": {},
     "output_type": "execute_result"
    }
   ],
   "source": [
    "timeStamp"
   ]
  },
  {
   "cell_type": "code",
   "execution_count": 60,
   "metadata": {},
   "outputs": [
    {
     "name": "stdout",
     "output_type": "stream",
     "text": [
      "Collecting nsetools\n",
      "  Downloading nsetools-1.0.11-py3-none-any.whl (9.6 kB)\n",
      "Requirement already satisfied: six in c:\\users\\91930\\appdata\\local\\packages\\pythonsoftwarefoundation.python.3.11_qbz5n2kfra8p0\\localcache\\local-packages\\python311\\site-packages (from nsetools) (1.16.0)\n",
      "Collecting dateutils (from nsetools)\n",
      "  Downloading dateutils-0.6.12-py2.py3-none-any.whl (5.7 kB)\n",
      "Requirement already satisfied: python-dateutil in c:\\users\\91930\\appdata\\local\\packages\\pythonsoftwarefoundation.python.3.11_qbz5n2kfra8p0\\localcache\\local-packages\\python311\\site-packages (from dateutils->nsetools) (2.8.2)\n",
      "Requirement already satisfied: pytz in c:\\users\\91930\\appdata\\local\\packages\\pythonsoftwarefoundation.python.3.11_qbz5n2kfra8p0\\localcache\\local-packages\\python311\\site-packages (from dateutils->nsetools) (2023.3.post1)\n",
      "Installing collected packages: dateutils, nsetools\n",
      "Successfully installed dateutils-0.6.12 nsetools-1.0.11\n"
     ]
    }
   ],
   "source": [
    "\n",
    "!pip install nsetools"
   ]
  },
  {
   "cell_type": "code",
   "execution_count": 52,
   "metadata": {},
   "outputs": [
    {
     "name": "stdout",
     "output_type": "stream",
     "text": [
      "[*********************100%%**********************]  1 of 1 completed\n"
     ]
    }
   ],
   "source": [
    "import yfinance as yf\n",
    "# Replace 'AAPL' with the stock symbol you're interested in\n",
    "symbol = 'TATAMOTORS.BO'\n",
    "# Get live stock data with a 5-minute interval\n",
    "live_data_5min = yf.download(symbol, period='1d', interval='1m')\n",
    "live_data_5min.to_csv('tatamotor.csv')"
   ]
  },
  {
   "cell_type": "code",
   "execution_count": 61,
   "metadata": {},
   "outputs": [
    {
     "data": {
      "text/html": [
       "<div>\n",
       "<style scoped>\n",
       "    .dataframe tbody tr th:only-of-type {\n",
       "        vertical-align: middle;\n",
       "    }\n",
       "\n",
       "    .dataframe tbody tr th {\n",
       "        vertical-align: top;\n",
       "    }\n",
       "\n",
       "    .dataframe thead th {\n",
       "        text-align: right;\n",
       "    }\n",
       "</style>\n",
       "<table border=\"1\" class=\"dataframe\">\n",
       "  <thead>\n",
       "    <tr style=\"text-align: right;\">\n",
       "      <th></th>\n",
       "      <th>Datetime</th>\n",
       "      <th>Open</th>\n",
       "      <th>High</th>\n",
       "      <th>Low</th>\n",
       "      <th>Close</th>\n",
       "      <th>Adj Close</th>\n",
       "      <th>Volume</th>\n",
       "    </tr>\n",
       "  </thead>\n",
       "  <tbody>\n",
       "    <tr>\n",
       "      <th>0</th>\n",
       "      <td>2023-12-15 09:15:00+05:30</td>\n",
       "      <td>723.900024</td>\n",
       "      <td>724.000000</td>\n",
       "      <td>721.450012</td>\n",
       "      <td>723.799988</td>\n",
       "      <td>723.799988</td>\n",
       "      <td>0</td>\n",
       "    </tr>\n",
       "    <tr>\n",
       "      <th>1</th>\n",
       "      <td>2023-12-15 09:16:00+05:30</td>\n",
       "      <td>724.000000</td>\n",
       "      <td>725.000000</td>\n",
       "      <td>723.400024</td>\n",
       "      <td>724.250000</td>\n",
       "      <td>724.250000</td>\n",
       "      <td>2344</td>\n",
       "    </tr>\n",
       "    <tr>\n",
       "      <th>2</th>\n",
       "      <td>2023-12-15 09:17:00+05:30</td>\n",
       "      <td>724.349976</td>\n",
       "      <td>724.349976</td>\n",
       "      <td>723.700012</td>\n",
       "      <td>724.049988</td>\n",
       "      <td>724.049988</td>\n",
       "      <td>1249</td>\n",
       "    </tr>\n",
       "    <tr>\n",
       "      <th>3</th>\n",
       "      <td>2023-12-15 09:18:00+05:30</td>\n",
       "      <td>724.000000</td>\n",
       "      <td>724.150024</td>\n",
       "      <td>723.299988</td>\n",
       "      <td>723.650024</td>\n",
       "      <td>723.650024</td>\n",
       "      <td>2576</td>\n",
       "    </tr>\n",
       "    <tr>\n",
       "      <th>4</th>\n",
       "      <td>2023-12-15 09:19:00+05:30</td>\n",
       "      <td>723.299988</td>\n",
       "      <td>723.950012</td>\n",
       "      <td>723.299988</td>\n",
       "      <td>723.849976</td>\n",
       "      <td>723.849976</td>\n",
       "      <td>567</td>\n",
       "    </tr>\n",
       "  </tbody>\n",
       "</table>\n",
       "</div>"
      ],
      "text/plain": [
       "                    Datetime        Open        High         Low       Close  \\\n",
       "0  2023-12-15 09:15:00+05:30  723.900024  724.000000  721.450012  723.799988   \n",
       "1  2023-12-15 09:16:00+05:30  724.000000  725.000000  723.400024  724.250000   \n",
       "2  2023-12-15 09:17:00+05:30  724.349976  724.349976  723.700012  724.049988   \n",
       "3  2023-12-15 09:18:00+05:30  724.000000  724.150024  723.299988  723.650024   \n",
       "4  2023-12-15 09:19:00+05:30  723.299988  723.950012  723.299988  723.849976   \n",
       "\n",
       "    Adj Close  Volume  \n",
       "0  723.799988       0  \n",
       "1  724.250000    2344  \n",
       "2  724.049988    1249  \n",
       "3  723.650024    2576  \n",
       "4  723.849976     567  "
      ]
     },
     "execution_count": 61,
     "metadata": {},
     "output_type": "execute_result"
    }
   ],
   "source": [
    "df=pd.read_csv('tatamotor.csv')\n",
    "df.head()"
   ]
  },
  {
   "cell_type": "code",
   "execution_count": 1,
   "metadata": {},
   "outputs": [],
   "source": [
    "import requests\n",
    "\n",
    "url = \"https://www.nseindia.com/api/equity-stockIndices?index=SECURITIES%20IN%20F%26O\"\n",
    "response = requests.get(url)\n",
    "\n",
    "# Follow redirects manually\n",
    "# while response.status_code == 301 or response.status_code == 302:\n",
    "#     url = response.headers['Location']\n",
    "#     response = requests.get(url)\n",
    "\n",
    "# Now, response contains the final data\n",
    "data = response.json()\n",
    "print(data)\n"
   ]
  },
  {
   "cell_type": "markdown",
   "metadata": {},
   "source": [
    "Time Series data Analysis in Stock Market\n",
    "1.Trend Component\n",
    "2. Seasonal Component\n",
    "3. Cyclical Component\n",
    "4. Irregular Component"
   ]
  },
  {
   "cell_type": "code",
   "execution_count": null,
   "metadata": {},
   "outputs": [],
   "source": [
    "\n"
   ]
  },
  {
   "cell_type": "code",
   "execution_count": null,
   "metadata": {},
   "outputs": [],
   "source": []
  }
 ],
 "metadata": {
  "kernelspec": {
   "display_name": "Python 3",
   "language": "python",
   "name": "python3"
  },
  "language_info": {
   "codemirror_mode": {
    "name": "ipython",
    "version": 3
   },
   "file_extension": ".py",
   "mimetype": "text/x-python",
   "name": "python",
   "nbconvert_exporter": "python",
   "pygments_lexer": "ipython3",
   "version": "3.11.7"
  }
 },
 "nbformat": 4,
 "nbformat_minor": 2
}
